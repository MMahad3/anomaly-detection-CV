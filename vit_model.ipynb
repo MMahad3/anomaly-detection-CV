{
  "nbformat": 4,
  "nbformat_minor": 0,
  "metadata": {
    "colab": {
      "provenance": [],
      "gpuType": "T4"
    },
    "kernelspec": {
      "name": "python3",
      "display_name": "Python 3"
    },
    "language_info": {
      "name": "python"
    },
    "accelerator": "GPU"
  },
  "cells": [
    {
      "cell_type": "code",
      "source": [
        "import numpy as np\n",
        "from sklearn.model_selection import train_test_split\n",
        "from tensorflow.keras.preprocessing.image import ImageDataGenerator\n",
        "from tensorflow.keras import layers, models\n",
        "from sklearn.metrics import classification_report\n",
        "import matplotlib.pyplot as plt\n",
        "import tensorflow as tf\n"
      ],
      "metadata": {
        "id": "1GlQkjPTLnIm"
      },
      "execution_count": 1,
      "outputs": []
    },
    {
      "cell_type": "code",
      "source": [
        "# Load dataset\n",
        "data = np.load(\"./drive/MyDrive/FYP/dataset.npz\")\n",
        "\n",
        "X_train = data['X_train']\n",
        "X_test = data['X_test']\n",
        "y_train = data['y_train']\n",
        "y_test = data['y_test']\n",
        "class_names = data['class_names']\n",
        "\n",
        "print(f\"Loaded dataset:\")\n",
        "print(f\"X_train shape: {X_train.shape}\")\n",
        "print(f\"X_test shape: {X_test.shape}\")\n",
        "\n"
      ],
      "metadata": {
        "colab": {
          "base_uri": "https://localhost:8080/"
        },
        "id": "WxaMUiCoNBOq",
        "outputId": "877dc3b8-4f72-4690-9f73-98f5ac5a63f8"
      },
      "execution_count": 2,
      "outputs": [
        {
          "output_type": "stream",
          "name": "stdout",
          "text": [
            "Loaded dataset:\n",
            "X_train shape: (16006, 64, 64, 3)\n",
            "X_test shape: (4002, 64, 64, 3)\n"
          ]
        }
      ]
    },
    {
      "cell_type": "code",
      "source": [
        "def plot_sample(X,y,index):\n",
        "    plt.figure(figsize=(3,2))\n",
        "    plt.imshow(X[index])\n",
        "    plt.xlabel(class_names[y[index]])\n",
        "\n",
        "plot_sample(X_train,y_train,9)"
      ],
      "metadata": {
        "colab": {
          "base_uri": "https://localhost:8080/",
          "height": 238
        },
        "id": "je6rEOMANDX1",
        "outputId": "26ffacaa-72fa-43d5-d972-8136b24c4b6f"
      },
      "execution_count": 3,
      "outputs": [
        {
          "output_type": "display_data",
          "data": {
            "text/plain": [
              "<Figure size 300x200 with 1 Axes>"
            ],
            "image/png": "[encoded data removed]"
          },
          "metadata": {}
        }
      ]
    },
    {
      "cell_type": "code",
      "execution_count": 4,
      "metadata": {
        "id": "_fCD2CY6J5gH"
      },
      "outputs": [],
      "source": [
        "learning_rate=0.001\n",
        "weight_decay=0.0001\n",
        "batch_size=256\n",
        "epochs=10\n",
        "image_size=64\n",
        "patch_size=6\n",
        "num_patches=(image_size//patch_size)**2\n",
        "projection_dim=64\n",
        "num_heads=4\n",
        "transformer_units=[\n",
        "    projection_dim*2,\n",
        "    projection_dim,\n",
        "]#size of transformer layers\n",
        "transformer_layers=8\n",
        "mlp_head_units=[2048,1024]#size of the dense layers of the final classifier"
      ]
    },
    {
      "cell_type": "code",
      "source": [
        "data_augmentation = models.Sequential(\n",
        "    [\n",
        "        layers.Normalization(),\n",
        "        layers.Resizing(image_size, image_size),\n",
        "        layers.RandomFlip(\"horizontal\"),\n",
        "        layers.RandomRotation(0.02),\n",
        "        layers.RandomZoom(\n",
        "            height_factor=0.2, width_factor=0.2\n",
        "        ),\n",
        "    ],\n",
        "    name=\"data_augmentation\",\n",
        ")\n",
        "\n",
        "# Compute the mean and variance of training data for normalization.\n",
        "data_augmentation.layers[0].adapt(X_train)\n"
      ],
      "metadata": {
        "id": "NCGrTmMZLjQv"
      },
      "execution_count": 5,
      "outputs": []
    },
    {
      "cell_type": "code",
      "source": [
        "def mlp(x,hidden_units,dropout_rate):\n",
        "  for units in hidden_units:\n",
        "    x=layers.Dense(units,activation=tf.nn.gelu)(x)\n",
        "    x=layers.Dropout(dropout_rate)(x)\n",
        "  return x\n"
      ],
      "metadata": {
        "id": "a_6i7tKyNjHW"
      },
      "execution_count": 6,
      "outputs": []
    },
    {
      "cell_type": "code",
      "source": [
        "class Patches(layers.Layer):\n",
        "  def __init__(self,patch_size):\n",
        "    super(Patches,self).__init__()\n",
        "    self.patch_size=patch_size\n",
        "\n",
        "  def call(self,images):\n",
        "    batch_size=tf.shape(images)[0]\n",
        "    patches=tf.image.extract_patches(\n",
        "        images=images,\n",
        "        sizes=[1,self.patch_size,self.patch_size,1],\n",
        "        strides=[1,self.patch_size,self.patch_size,1],\n",
        "        rates=[1,1,1,1],\n",
        "        padding=\"VALID\",\n",
        "    )\n",
        "    patch_dims=patches.shape[-1]\n",
        "    patches=tf.reshape(patches, [batch_size,-1,patch_dims])\n",
        "    return patches"
      ],
      "metadata": {
        "id": "mNAA2J8ANyxZ"
      },
      "execution_count": 7,
      "outputs": []
    },
    {
      "cell_type": "code",
      "source": [
        "plt.figure(figsize=(4,4))\n",
        "# image=X_train[np.random.choice(range(X_train.shape[0]))]\n",
        "image=X_train[1]\n",
        "plt.imshow((image * 255).astype(\"uint8\"))\n",
        "plt.axis(\"off\")\n",
        "\n",
        "resized_image=tf.image.resize(\n",
        "    tf.convert_to_tensor([image]),size=(image_size,image_size)\n",
        ")\n",
        "\n",
        "patches=Patches(patch_size)(resized_image)\n",
        "print(f\"Image size: {image_size} X {image_size}\")\n",
        "print(f\"Patch size: {patch_size} X {patch_size}\")\n",
        "print(f\"Patches per image: {patches.shape[1]}\")\n",
        "print(f\"Elements per patch: {patches.shape[-1]}\")\n",
        "n=int(np.sqrt(patches.shape[1]))\n",
        "plt.figure(figsize=(4,4))\n",
        "for i,patch in enumerate(patches[0]):\n",
        "  ax=plt.subplot(n,n,i+1)\n",
        "  patch_img=tf.reshape(patch,(patch_size,patch_size,3))\n",
        "  plt.imshow(patch_img.numpy().astype(\"uint8\"))\n",
        "  plt.imshow((patch_img.numpy() * 255).astype(\"uint8\"))\n",
        "  plt.axis(\"off\")"
      ],
      "metadata": {
        "colab": {
          "base_uri": "https://localhost:8080/",
          "height": 742
        },
        "id": "sk1wBOTEOjEW",
        "outputId": "54d5919c-1f10-4ed3-a7d1-07cf867e9e99"
      },
      "execution_count": 8,
      "outputs": [
        {
          "output_type": "stream",
          "name": "stdout",
          "text": [
            "Image size: 64 X 64\n",
            "Patch size: 6 X 6\n",
            "Patches per image: 100\n",
            "Elements per patch: 108\n"
          ]
        },
        {
          "output_type": "display_data",
          "data": {
            "text/plain": [
              "<Figure size 400x400 with 1 Axes>"
            ],
            "image/png": "[encoded data removed]"
          },
          "metadata": {}
        },
        {
          "output_type": "display_data",
          "data": {
            "text/plain": [
              "<Figure size 400x400 with 100 Axes>"
            ],
            "image/png": "[encoded data removed]"
          },
          "metadata": {}
        }
      ]
    },
    {
      "cell_type": "code",
      "source": [
        "class PatchEncoder(layers.Layer):\n",
        "  def __init__(self,num_patches,projection_dim):\n",
        "    super(PatchEncoder,self).__init__()\n",
        "    self.num_patches=num_patches\n",
        "    self.projection=layers.Dense(units=projection_dim)\n",
        "    self.position_embedding=layers.Embedding(\n",
        "        input_dim=num_patches,output_dim=projection_dim\n",
        "    )\n",
        "  def call(self,patch):\n",
        "    positions=tf.range(start=0,limit=self.num_patches,delta=1)\n",
        "    encoded=self.projection(patch)+self.position_embedding(positions)\n",
        "    return encoded"
      ],
      "metadata": {
        "id": "5D2o8A4pP_zl"
      },
      "execution_count": 9,
      "outputs": []
    },
    {
      "cell_type": "code",
      "source": [
        "def create_vit_classifier():\n",
        "  inputs=layers.Input(shape=input_shape)\n",
        "  augmented=data_augmentation(inputs)\n",
        "  patches=Patches(patch_size)(augmented)\n",
        "  encoded_patches=PatchEncoder(num_patches,projection_dim)(patches)\n",
        "\n",
        "  for _ in range(transformer_layers):\n",
        "    x1=layers.LayerNormalization(epsilon=1e-6)(encoded_patches)\n",
        "    attention_output=layers.MultiHeadAttention(\n",
        "        num_heads=num_heads,key_dim=projection_dim,dropout=0.1\n",
        "    )(x1,x1)\n",
        "    x2=layers.Add()([attention_output,encoded_patches])\n",
        "    x3=layers.LayerNormalization(epsilon=1e-6)(x2)\n",
        "    x3=mlp(x3,hidden_units=transformer_units,dropout_rate=0.1)\n",
        "    encoded_patches=layers.Add()([x3,x2])\n",
        "  representation=layers.LayerNormalization(epsilon=1e-6)(encoded_patches)\n",
        "  representation=layers.Flatten()(representation)\n",
        "  representation=layers.Dropout(0.5)(representation)\n",
        "  features=mlp(representation,hidden_units=mlp_head_units,dropout_rate=0.5)\n",
        "  logits=layers.Dense(num_classes)(features)\n",
        "  model=tf.keras.Model(inputs=inputs,outputs=logits)\n",
        "  return model"
      ],
      "metadata": {
        "id": "nM78IHsDTszW"
      },
      "execution_count": 10,
      "outputs": []
    },
    {
      "cell_type": "code",
      "source": [
        "checkpoint_filepath=\"./drive/MyDrive/FYP/vit.keras.weights.h5\"\n",
        "checkpoint_callback=tf.keras.callbacks.ModelCheckpoint(\n",
        "    filepath=checkpoint_filepath,\n",
        "    monitor=\"val_accuracy\",\n",
        "    save_best_only=True,\n",
        "    save_weights_only=True,\n",
        ")"
      ],
      "metadata": {
        "id": "OoBHFOaoV3SD"
      },
      "execution_count": 11,
      "outputs": []
    },
    {
      "cell_type": "code",
      "source": [
        "# input_shape = (image_size, image_size, 3)  # Assuming 64x64 RGB images\n",
        "# num_classes = len(class_names)  # Ensure `class_names` is defined and valid\n",
        "# model=create_vit_classifier()\n",
        "# model.summary()"
      ],
      "metadata": {
        "id": "BSKYMWIDXt9Z"
      },
      "execution_count": 12,
      "outputs": []
    },
    {
      "cell_type": "code",
      "source": [
        "def run_experiment(model):\n",
        "    # Define the optimizer with learning rate and weight decay\n",
        "    optimizer = tf.keras.optimizers.Adam(\n",
        "        learning_rate=learning_rate, weight_decay=weight_decay\n",
        "    )\n",
        "\n",
        "    # Compile the model\n",
        "    model.compile(\n",
        "        optimizer=optimizer,\n",
        "        loss=tf.keras.losses.SparseCategoricalCrossentropy(from_logits=True),\n",
        "        metrics=[\n",
        "            tf.keras.metrics.SparseCategoricalAccuracy(name=\"accuracy\"),\n",
        "            tf.keras.metrics.SparseTopKCategoricalAccuracy(5, name=\"top-5-accuracy\"),\n",
        "        ],\n",
        "    )\n",
        "\n",
        "    # Set up the checkpoint callback\n",
        "    checkpoint_callback = tf.keras.callbacks.ModelCheckpoint(\n",
        "        filepath=checkpoint_filepath,\n",
        "        monitor=\"val_accuracy\",\n",
        "        save_best_only=True,\n",
        "        save_weights_only=True,\n",
        "        verbose=1\n",
        "    )\n",
        "\n",
        "    # Train the model\n",
        "    history = model.fit(\n",
        "        X_train,\n",
        "        y_train,\n",
        "        batch_size=batch_size,\n",
        "        epochs=epochs,\n",
        "        validation_split=0.1,\n",
        "        callbacks=[checkpoint_callback],\n",
        "    )\n",
        "\n",
        "    # Load the best weights from the checkpoint\n",
        "    model.load_weights(checkpoint_filepath)\n",
        "\n",
        "    # Evaluate the model on the test set\n",
        "    _, accuracy, top_5_accuracy = model.evaluate(X_test, y_test)\n",
        "    print(f\"Test accuracy: {round(accuracy * 100, 2)}%\")\n",
        "    print(f\"Test top-5 accuracy: {round(top_5_accuracy * 100, 2)}%\")\n",
        "\n",
        "    return history\n"
      ],
      "metadata": {
        "id": "vX6uedw-YRao"
      },
      "execution_count": 13,
      "outputs": []
    },
    {
      "cell_type": "code",
      "source": [
        "input_shape = (image_size, image_size, 3)  # Assuming 64x64 RGB images\n",
        "num_classes = len(class_names)  # Ensure `class_names` is defined and valid\n",
        "vit_classifier = create_vit_classifier()\n",
        "history = run_experiment(vit_classifier)"
      ],
      "metadata": {
        "colab": {
          "base_uri": "https://localhost:8080/"
        },
        "id": "KEP0CVNmYh-a",
        "outputId": "23e6ebc5-71a7-4172-cabc-df6ef9712f5e"
      },
      "execution_count": 14,
      "outputs": [
        {
          "output_type": "stream",
          "name": "stdout",
          "text": [
            "Epoch 1/10\n",
            "\u001b[1m57/57\u001b[0m \u001b[32m━━━━━━━━━━━━━━━━━━━━\u001b[0m\u001b[37m\u001b[0m \u001b[1m0s\u001b[0m 234ms/step - accuracy: 0.5387 - loss: 2.9886 - top-5-accuracy: 0.8264\n",
            "Epoch 1: val_accuracy improved from -inf to 0.92130, saving model to ./drive/MyDrive/FYP/vit.keras.weights.h5\n",
            "\u001b[1m57/57\u001b[0m \u001b[32m━━━━━━━━━━━━━━━━━━━━\u001b[0m\u001b[37m\u001b[0m \u001b[1m55s\u001b[0m 287ms/step - accuracy: 0.5409 - loss: 2.9638 - top-5-accuracy: 0.8280 - val_accuracy: 0.9213 - val_loss: 0.2637 - val_top-5-accuracy: 0.9956\n",
            "Epoch 2/10\n",
            "\u001b[1m57/57\u001b[0m \u001b[32m━━━━━━━━━━━━━━━━━━━━\u001b[0m\u001b[37m\u001b[0m \u001b[1m0s\u001b[0m 238ms/step - accuracy: 0.8669 - loss: 0.4284 - top-5-accuracy: 0.9924\n",
            "Epoch 2: val_accuracy improved from 0.92130 to 0.98501, saving model to ./drive/MyDrive/FYP/vit.keras.weights.h5\n",
            "\u001b[1m57/57\u001b[0m \u001b[32m━━━━━━━━━━━━━━━━━━━━\u001b[0m\u001b[37m\u001b[0m \u001b[1m15s\u001b[0m 267ms/step - accuracy: 0.8674 - loss: 0.4269 - top-5-accuracy: 0.9924 - val_accuracy: 0.9850 - val_loss: 0.0731 - val_top-5-accuracy: 0.9975\n",
            "Epoch 3/10\n",
            "\u001b[1m57/57\u001b[0m \u001b[32m━━━━━━━━━━━━━━━━━━━━\u001b[0m\u001b[37m\u001b[0m \u001b[1m0s\u001b[0m 244ms/step - accuracy: 0.9474 - loss: 0.1666 - top-5-accuracy: 0.9978\n",
            "Epoch 3: val_accuracy improved from 0.98501 to 0.99001, saving model to ./drive/MyDrive/FYP/vit.keras.weights.h5\n",
            "\u001b[1m57/57\u001b[0m \u001b[32m━━━━━━━━━━━━━━━━━━━━\u001b[0m\u001b[37m\u001b[0m \u001b[1m26s\u001b[0m 371ms/step - accuracy: 0.9475 - loss: 0.1664 - top-5-accuracy: 0.9978 - val_accuracy: 0.9900 - val_loss: 0.0420 - val_top-5-accuracy: 0.9988\n",
            "Epoch 4/10\n",
            "\u001b[1m57/57\u001b[0m \u001b[32m━━━━━━━━━━━━━━━━━━━━\u001b[0m\u001b[37m\u001b[0m \u001b[1m0s\u001b[0m 240ms/step - accuracy: 0.9661 - loss: 0.1154 - top-5-accuracy: 0.9991\n",
            "Epoch 4: val_accuracy improved from 0.99001 to 0.99625, saving model to ./drive/MyDrive/FYP/vit.keras.weights.h5\n",
            "\u001b[1m57/57\u001b[0m \u001b[32m━━━━━━━━━━━━━━━━━━━━\u001b[0m\u001b[37m\u001b[0m \u001b[1m18s\u001b[0m 312ms/step - accuracy: 0.9662 - loss: 0.1152 - top-5-accuracy: 0.9991 - val_accuracy: 0.9963 - val_loss: 0.0241 - val_top-5-accuracy: 0.9994\n",
            "Epoch 5/10\n",
            "\u001b[1m57/57\u001b[0m \u001b[32m━━━━━━━━━━━━━━━━━━━━\u001b[0m\u001b[37m\u001b[0m \u001b[1m0s\u001b[0m 242ms/step - accuracy: 0.9764 - loss: 0.0803 - top-5-accuracy: 0.9980\n",
            "Epoch 5: val_accuracy did not improve from 0.99625\n",
            "\u001b[1m57/57\u001b[0m \u001b[32m━━━━━━━━━━━━━━━━━━━━\u001b[0m\u001b[37m\u001b[0m \u001b[1m17s\u001b[0m 251ms/step - accuracy: 0.9764 - loss: 0.0802 - top-5-accuracy: 0.9980 - val_accuracy: 0.9950 - val_loss: 0.0263 - val_top-5-accuracy: 0.9988\n",
            "Epoch 6/10\n",
            "\u001b[1m57/57\u001b[0m \u001b[32m━━━━━━━━━━━━━━━━━━━━\u001b[0m\u001b[37m\u001b[0m \u001b[1m0s\u001b[0m 239ms/step - accuracy: 0.9818 - loss: 0.0617 - top-5-accuracy: 0.9991\n",
            "Epoch 6: val_accuracy did not improve from 0.99625\n",
            "\u001b[1m57/57\u001b[0m \u001b[32m━━━━━━━━━━━━━━━━━━━━\u001b[0m\u001b[37m\u001b[0m \u001b[1m20s\u001b[0m 248ms/step - accuracy: 0.9819 - loss: 0.0617 - top-5-accuracy: 0.9991 - val_accuracy: 0.9963 - val_loss: 0.0244 - val_top-5-accuracy: 0.9988\n",
            "Epoch 7/10\n",
            "\u001b[1m57/57\u001b[0m \u001b[32m━━━━━━━━━━━━━━━━━━━━\u001b[0m\u001b[37m\u001b[0m \u001b[1m0s\u001b[0m 240ms/step - accuracy: 0.9842 - loss: 0.0567 - top-5-accuracy: 0.9995\n",
            "Epoch 7: val_accuracy did not improve from 0.99625\n",
            "\u001b[1m57/57\u001b[0m \u001b[32m━━━━━━━━━━━━━━━━━━━━\u001b[0m\u001b[37m\u001b[0m \u001b[1m14s\u001b[0m 252ms/step - accuracy: 0.9842 - loss: 0.0568 - top-5-accuracy: 0.9995 - val_accuracy: 0.9963 - val_loss: 0.0234 - val_top-5-accuracy: 0.9988\n",
            "Epoch 8/10\n",
            "\u001b[1m57/57\u001b[0m \u001b[32m━━━━━━━━━━━━━━━━━━━━\u001b[0m\u001b[37m\u001b[0m \u001b[1m0s\u001b[0m 243ms/step - accuracy: 0.9855 - loss: 0.0489 - top-5-accuracy: 0.9997\n",
            "Epoch 8: val_accuracy did not improve from 0.99625\n",
            "\u001b[1m57/57\u001b[0m \u001b[32m━━━━━━━━━━━━━━━━━━━━\u001b[0m\u001b[37m\u001b[0m \u001b[1m21s\u001b[0m 252ms/step - accuracy: 0.9854 - loss: 0.0489 - top-5-accuracy: 0.9997 - val_accuracy: 0.9950 - val_loss: 0.0176 - val_top-5-accuracy: 0.9994\n",
            "Epoch 9/10\n",
            "\u001b[1m57/57\u001b[0m \u001b[32m━━━━━━━━━━━━━━━━━━━━\u001b[0m\u001b[37m\u001b[0m \u001b[1m0s\u001b[0m 242ms/step - accuracy: 0.9870 - loss: 0.0520 - top-5-accuracy: 0.9993\n",
            "Epoch 9: val_accuracy did not improve from 0.99625\n",
            "\u001b[1m57/57\u001b[0m \u001b[32m━━━━━━━━━━━━━━━━━━━━\u001b[0m\u001b[37m\u001b[0m \u001b[1m21s\u001b[0m 254ms/step - accuracy: 0.9870 - loss: 0.0520 - top-5-accuracy: 0.9993 - val_accuracy: 0.9956 - val_loss: 0.0285 - val_top-5-accuracy: 0.9988\n",
            "Epoch 10/10\n",
            "\u001b[1m57/57\u001b[0m \u001b[32m━━━━━━━━━━━━━━━━━━━━\u001b[0m\u001b[37m\u001b[0m \u001b[1m0s\u001b[0m 243ms/step - accuracy: 0.9898 - loss: 0.0388 - top-5-accuracy: 0.9994\n",
            "Epoch 10: val_accuracy improved from 0.99625 to 0.99750, saving model to ./drive/MyDrive/FYP/vit.keras.weights.h5\n",
            "\u001b[1m57/57\u001b[0m \u001b[32m━━━━━━━━━━━━━━━━━━━━\u001b[0m\u001b[37m\u001b[0m \u001b[1m27s\u001b[0m 365ms/step - accuracy: 0.9898 - loss: 0.0388 - top-5-accuracy: 0.9994 - val_accuracy: 0.9975 - val_loss: 0.0238 - val_top-5-accuracy: 0.9988\n",
            "\u001b[1m126/126\u001b[0m \u001b[32m━━━━━━━━━━━━━━━━━━━━\u001b[0m\u001b[37m\u001b[0m \u001b[1m2s\u001b[0m 13ms/step - accuracy: 0.9941 - loss: 0.0166 - top-5-accuracy: 1.0000\n",
            "Test accuracy: 99.35%\n",
            "Test top-5 accuracy: 100.0%\n"
          ]
        }
      ]
    }
  ]
}